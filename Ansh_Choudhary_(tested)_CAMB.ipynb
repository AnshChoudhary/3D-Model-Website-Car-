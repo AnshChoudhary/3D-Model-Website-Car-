{
  "nbformat": 4,
  "nbformat_minor": 0,
  "metadata": {
    "colab": {
      "provenance": [],
      "include_colab_link": true
    },
    "kernelspec": {
      "name": "python3",
      "display_name": "Python 3"
    },
    "language_info": {
      "name": "python"
    }
  },
  "cells": [
    {
      "cell_type": "markdown",
      "metadata": {
        "id": "view-in-github",
        "colab_type": "text"
      },
      "source": [
        "<a href=\"https://colab.research.google.com/github/AnshChoudhary/3D-Model-Website-Car-/blob/main/Ansh_Choudhary_(tested)_CAMB.ipynb\" target=\"_parent\"><img src=\"https://colab.research.google.com/assets/colab-badge.svg\" alt=\"Open In Colab\"/></a>"
      ]
    },
    {
      "cell_type": "markdown",
      "source": [
        "# Installing the necessary Librarys"
      ],
      "metadata": {
        "id": "OLLSxr56vWPL"
      }
    },
    {
      "cell_type": "code",
      "execution_count": 2,
      "metadata": {
        "id": "xePdvMI4iRtZ",
        "colab": {
          "base_uri": "https://localhost:8080/"
        },
        "outputId": "2b13e9ec-635c-417c-e213-b5b98fc19ed6"
      },
      "outputs": [
        {
          "output_type": "stream",
          "name": "stdout",
          "text": [
            "Collecting youtube_search\n",
            "  Downloading youtube_search-2.1.2-py3-none-any.whl (3.4 kB)\n",
            "Requirement already satisfied: requests in /usr/local/lib/python3.10/dist-packages (from youtube_search) (2.31.0)\n",
            "Requirement already satisfied: charset-normalizer<4,>=2 in /usr/local/lib/python3.10/dist-packages (from requests->youtube_search) (3.3.2)\n",
            "Requirement already satisfied: idna<4,>=2.5 in /usr/local/lib/python3.10/dist-packages (from requests->youtube_search) (3.6)\n",
            "Requirement already satisfied: urllib3<3,>=1.21.1 in /usr/local/lib/python3.10/dist-packages (from requests->youtube_search) (2.0.7)\n",
            "Requirement already satisfied: certifi>=2017.4.17 in /usr/local/lib/python3.10/dist-packages (from requests->youtube_search) (2024.2.2)\n",
            "Installing collected packages: youtube_search\n",
            "Successfully installed youtube_search-2.1.2\n",
            "Collecting pytube\n",
            "  Downloading pytube-15.0.0-py3-none-any.whl (57 kB)\n",
            "\u001b[2K     \u001b[90m━━━━━━━━━━━━━━━━━━━━━━━━━━━━━━━━━━━━━━━━\u001b[0m \u001b[32m57.6/57.6 kB\u001b[0m \u001b[31m1.7 MB/s\u001b[0m eta \u001b[36m0:00:00\u001b[0m\n",
            "\u001b[?25hInstalling collected packages: pytube\n",
            "Successfully installed pytube-15.0.0\n",
            "Collecting youtube_transcript_api\n",
            "  Downloading youtube_transcript_api-0.6.2-py3-none-any.whl (24 kB)\n",
            "Requirement already satisfied: requests in /usr/local/lib/python3.10/dist-packages (from youtube_transcript_api) (2.31.0)\n",
            "Requirement already satisfied: charset-normalizer<4,>=2 in /usr/local/lib/python3.10/dist-packages (from requests->youtube_transcript_api) (3.3.2)\n",
            "Requirement already satisfied: idna<4,>=2.5 in /usr/local/lib/python3.10/dist-packages (from requests->youtube_transcript_api) (3.6)\n",
            "Requirement already satisfied: urllib3<3,>=1.21.1 in /usr/local/lib/python3.10/dist-packages (from requests->youtube_transcript_api) (2.0.7)\n",
            "Requirement already satisfied: certifi>=2017.4.17 in /usr/local/lib/python3.10/dist-packages (from requests->youtube_transcript_api) (2024.2.2)\n",
            "Installing collected packages: youtube_transcript_api\n",
            "Successfully installed youtube_transcript_api-0.6.2\n",
            "Collecting pydub\n",
            "  Downloading pydub-0.25.1-py2.py3-none-any.whl (32 kB)\n",
            "Installing collected packages: pydub\n",
            "Successfully installed pydub-0.25.1\n",
            "Collecting SpeechRecognition\n",
            "  Downloading SpeechRecognition-3.10.1-py2.py3-none-any.whl (32.8 MB)\n",
            "\u001b[2K     \u001b[90m━━━━━━━━━━━━━━━━━━━━━━━━━━━━━━━━━━━━━━━━\u001b[0m \u001b[32m32.8/32.8 MB\u001b[0m \u001b[31m33.2 MB/s\u001b[0m eta \u001b[36m0:00:00\u001b[0m\n",
            "\u001b[?25hRequirement already satisfied: requests>=2.26.0 in /usr/local/lib/python3.10/dist-packages (from SpeechRecognition) (2.31.0)\n",
            "Requirement already satisfied: typing-extensions in /usr/local/lib/python3.10/dist-packages (from SpeechRecognition) (4.10.0)\n",
            "Requirement already satisfied: charset-normalizer<4,>=2 in /usr/local/lib/python3.10/dist-packages (from requests>=2.26.0->SpeechRecognition) (3.3.2)\n",
            "Requirement already satisfied: idna<4,>=2.5 in /usr/local/lib/python3.10/dist-packages (from requests>=2.26.0->SpeechRecognition) (3.6)\n",
            "Requirement already satisfied: urllib3<3,>=1.21.1 in /usr/local/lib/python3.10/dist-packages (from requests>=2.26.0->SpeechRecognition) (2.0.7)\n",
            "Requirement already satisfied: certifi>=2017.4.17 in /usr/local/lib/python3.10/dist-packages (from requests>=2.26.0->SpeechRecognition) (2024.2.2)\n",
            "Installing collected packages: SpeechRecognition\n",
            "Successfully installed SpeechRecognition-3.10.1\n",
            "Requirement already satisfied: librosa in /usr/local/lib/python3.10/dist-packages (0.10.1)\n",
            "Requirement already satisfied: audioread>=2.1.9 in /usr/local/lib/python3.10/dist-packages (from librosa) (3.0.1)\n",
            "Requirement already satisfied: numpy!=1.22.0,!=1.22.1,!=1.22.2,>=1.20.3 in /usr/local/lib/python3.10/dist-packages (from librosa) (1.25.2)\n",
            "Requirement already satisfied: scipy>=1.2.0 in /usr/local/lib/python3.10/dist-packages (from librosa) (1.11.4)\n",
            "Requirement already satisfied: scikit-learn>=0.20.0 in /usr/local/lib/python3.10/dist-packages (from librosa) (1.2.2)\n",
            "Requirement already satisfied: joblib>=0.14 in /usr/local/lib/python3.10/dist-packages (from librosa) (1.3.2)\n",
            "Requirement already satisfied: decorator>=4.3.0 in /usr/local/lib/python3.10/dist-packages (from librosa) (4.4.2)\n",
            "Requirement already satisfied: numba>=0.51.0 in /usr/local/lib/python3.10/dist-packages (from librosa) (0.58.1)\n",
            "Requirement already satisfied: soundfile>=0.12.1 in /usr/local/lib/python3.10/dist-packages (from librosa) (0.12.1)\n",
            "Requirement already satisfied: pooch>=1.0 in /usr/local/lib/python3.10/dist-packages (from librosa) (1.8.1)\n",
            "Requirement already satisfied: soxr>=0.3.2 in /usr/local/lib/python3.10/dist-packages (from librosa) (0.3.7)\n",
            "Requirement already satisfied: typing-extensions>=4.1.1 in /usr/local/lib/python3.10/dist-packages (from librosa) (4.10.0)\n",
            "Requirement already satisfied: lazy-loader>=0.1 in /usr/local/lib/python3.10/dist-packages (from librosa) (0.3)\n",
            "Requirement already satisfied: msgpack>=1.0 in /usr/local/lib/python3.10/dist-packages (from librosa) (1.0.7)\n",
            "Requirement already satisfied: llvmlite<0.42,>=0.41.0dev0 in /usr/local/lib/python3.10/dist-packages (from numba>=0.51.0->librosa) (0.41.1)\n",
            "Requirement already satisfied: platformdirs>=2.5.0 in /usr/local/lib/python3.10/dist-packages (from pooch>=1.0->librosa) (4.2.0)\n",
            "Requirement already satisfied: packaging>=20.0 in /usr/local/lib/python3.10/dist-packages (from pooch>=1.0->librosa) (23.2)\n",
            "Requirement already satisfied: requests>=2.19.0 in /usr/local/lib/python3.10/dist-packages (from pooch>=1.0->librosa) (2.31.0)\n",
            "Requirement already satisfied: threadpoolctl>=2.0.0 in /usr/local/lib/python3.10/dist-packages (from scikit-learn>=0.20.0->librosa) (3.3.0)\n",
            "Requirement already satisfied: cffi>=1.0 in /usr/local/lib/python3.10/dist-packages (from soundfile>=0.12.1->librosa) (1.16.0)\n",
            "Requirement already satisfied: pycparser in /usr/local/lib/python3.10/dist-packages (from cffi>=1.0->soundfile>=0.12.1->librosa) (2.21)\n",
            "Requirement already satisfied: charset-normalizer<4,>=2 in /usr/local/lib/python3.10/dist-packages (from requests>=2.19.0->pooch>=1.0->librosa) (3.3.2)\n",
            "Requirement already satisfied: idna<4,>=2.5 in /usr/local/lib/python3.10/dist-packages (from requests>=2.19.0->pooch>=1.0->librosa) (3.6)\n",
            "Requirement already satisfied: urllib3<3,>=1.21.1 in /usr/local/lib/python3.10/dist-packages (from requests>=2.19.0->pooch>=1.0->librosa) (2.0.7)\n",
            "Requirement already satisfied: certifi>=2017.4.17 in /usr/local/lib/python3.10/dist-packages (from requests>=2.19.0->pooch>=1.0->librosa) (2024.2.2)\n",
            "Reading package lists... Done\n",
            "Building dependency tree... Done\n",
            "Reading state information... Done\n",
            "ffmpeg is already the newest version (7:4.4.2-0ubuntu0.22.04.1).\n",
            "0 upgraded, 0 newly installed, 0 to remove and 35 not upgraded.\n"
          ]
        }
      ],
      "source": [
        "%pip install youtube_search\n",
        "%pip install pytube\n",
        "%pip install youtube_transcript_api\n",
        "%pip install pydub\n",
        "%pip install SpeechRecognition\n",
        "%pip install librosa\n",
        "!apt-get install ffmpeg"
      ]
    },
    {
      "cell_type": "markdown",
      "source": [
        "# Data Collection:\n",
        " Searching the Irish YouTube channel and Downloading the latest 2 videos from it.\n",
        "\n",
        " Extracting the audio and transcripts from the video."
      ],
      "metadata": {
        "id": "V37qH6pmvCz9"
      }
    },
    {
      "cell_type": "code",
      "source": [
        "from pytube import YouTube\n",
        "import os\n",
        "from youtube_search import YoutubeSearch\n",
        "from youtube_transcript_api import YouTubeTranscriptApi\n",
        "\n",
        "def search_and_download_irish_videos(query, output_path, max_results=10):\n",
        "    # Perform YouTube search using the query\n",
        "    results = YoutubeSearch(query, max_results=max_results).to_dict()\n",
        "\n",
        "    # Create folders for audio files and transcripts\n",
        "    audio_folder = os.path.join(output_path, \"audio\")\n",
        "    transcript_folder = os.path.join(output_path, \"transcripts\")\n",
        "    os.makedirs(audio_folder, exist_ok=True)\n",
        "    os.makedirs(transcript_folder, exist_ok=True)\n",
        "\n",
        "    # Iterate over search results\n",
        "    for video in results:\n",
        "        video_id = video['id']\n",
        "        video_title = video['title']\n",
        "\n",
        "        try:\n",
        "            # Download video\n",
        "            yt = YouTube(f'https://www.youtube.com/watch?v={video_id}')\n",
        "            stream = yt.streams.filter(file_extension='mp4').first()\n",
        "            video_file = stream.download(output_path=output_path, filename=f'{video_id}')\n",
        "            print(f\"Downloaded video: {video_title}\")\n",
        "\n",
        "            # Download audio\n",
        "            stream_audio = yt.streams.filter(only_audio=True).first()\n",
        "            audio_file = stream_audio.download(output_path=audio_folder, filename=f'{video_id}.wav')\n",
        "            print(f\"Downloaded audio: {video_title}\")\n",
        "\n",
        "            # Download transcript\n",
        "            transcript = YouTubeTranscriptApi.get_transcript(video_id)\n",
        "            transcript_text = ' '.join([line['text'] for line in transcript])\n",
        "            transcript_file = os.path.join(transcript_folder, f'{video_id}.txt')\n",
        "            with open(transcript_file, 'w', encoding='utf-8') as f:\n",
        "                f.write(transcript_text)\n",
        "            print(f\"Downloaded transcript: {video_title}\")\n",
        "\n",
        "        except Exception as e:\n",
        "            print(f\"Error downloading {video_title}: {e}\")\n",
        "\n",
        "# Example usage:\n",
        "query = \"Gaeilge i mo chroí\"\n",
        "output_path = \"/content/files\"\n",
        "search_and_download_irish_videos(query, output_path, max_results=2)\n"
      ],
      "metadata": {
        "colab": {
          "base_uri": "https://localhost:8080/"
        },
        "id": "D9CTOt-kiSTH",
        "outputId": "55db34a8-7c05-4220-c610-2d5c89cb72ad"
      },
      "execution_count": 3,
      "outputs": [
        {
          "output_type": "stream",
          "name": "stdout",
          "text": [
            "Downloaded video: A casual conversation as Gaeilge with Gaeilge le Jane 🥰 💚 MUNSTER DIALECT, Gaeltacht Mhúscraí\n",
            "Downloaded audio: A casual conversation as Gaeilge with Gaeilge le Jane 🥰 💚 MUNSTER DIALECT, Gaeltacht Mhúscraí\n",
            "Downloaded transcript: A casual conversation as Gaeilge with Gaeilge le Jane 🥰 💚 MUNSTER DIALECT, Gaeltacht Mhúscraí\n",
            "Downloaded video: How to start speaking Irish | Gaeilge i Mo Chroí\n",
            "Downloaded audio: How to start speaking Irish | Gaeilge i Mo Chroí\n",
            "Downloaded transcript: How to start speaking Irish | Gaeilge i Mo Chroí\n"
          ]
        }
      ]
    },
    {
      "cell_type": "code",
      "source": [
        "# import os\n",
        "\n",
        "# # Set the path to your service account key file\n",
        "# os.environ[\"GOOGLE_APPLICATION_CREDENTIALS\"] = \"/content/potent-cedar-415705-417bcf87622a.json\""
      ],
      "metadata": {
        "id": "5gKsj7DojIrN"
      },
      "execution_count": null,
      "outputs": []
    },
    {
      "cell_type": "markdown",
      "source": [
        "# Data Preprocessing:\n",
        " Encoding the audio files."
      ],
      "metadata": {
        "id": "yg2uPTsbu8ud"
      }
    },
    {
      "cell_type": "code",
      "source": [
        "import os\n",
        "\n",
        "\n",
        "audio_folder = '/content/files/audio'\n",
        "\n",
        "\n",
        "output_folder = '/content/files/encoded audio'\n",
        "\n",
        "# Ensure the output folder exists\n",
        "os.makedirs(output_folder, exist_ok=True)\n",
        "\n",
        "# Iterate over each file in the audio folder\n",
        "for filename in os.listdir(audio_folder):\n",
        "    if filename.endswith('.wav'):\n",
        "        # Generate input and output file paths\n",
        "        input_file = os.path.join(audio_folder, filename)\n",
        "        output_file = os.path.join(output_folder, filename)\n",
        "\n",
        "        # Execute FFmpeg command to re-encode the audio file\n",
        "        !ffmpeg -i \"$input_file\" -c:a pcm_s16le \"$output_file\"\n"
      ],
      "metadata": {
        "id": "Aj2DyxKPluzp",
        "colab": {
          "base_uri": "https://localhost:8080/"
        },
        "outputId": "0aa15cd2-4bd9-456b-bfaf-080d04da66ab"
      },
      "execution_count": 4,
      "outputs": [
        {
          "output_type": "stream",
          "name": "stdout",
          "text": [
            "ffmpeg version 4.4.2-0ubuntu0.22.04.1 Copyright (c) 2000-2021 the FFmpeg developers\n",
            "  built with gcc 11 (Ubuntu 11.2.0-19ubuntu1)\n",
            "  configuration: --prefix=/usr --extra-version=0ubuntu0.22.04.1 --toolchain=hardened --libdir=/usr/lib/x86_64-linux-gnu --incdir=/usr/include/x86_64-linux-gnu --arch=amd64 --enable-gpl --disable-stripping --enable-gnutls --enable-ladspa --enable-libaom --enable-libass --enable-libbluray --enable-libbs2b --enable-libcaca --enable-libcdio --enable-libcodec2 --enable-libdav1d --enable-libflite --enable-libfontconfig --enable-libfreetype --enable-libfribidi --enable-libgme --enable-libgsm --enable-libjack --enable-libmp3lame --enable-libmysofa --enable-libopenjpeg --enable-libopenmpt --enable-libopus --enable-libpulse --enable-librabbitmq --enable-librubberband --enable-libshine --enable-libsnappy --enable-libsoxr --enable-libspeex --enable-libsrt --enable-libssh --enable-libtheora --enable-libtwolame --enable-libvidstab --enable-libvorbis --enable-libvpx --enable-libwebp --enable-libx265 --enable-libxml2 --enable-libxvid --enable-libzimg --enable-libzmq --enable-libzvbi --enable-lv2 --enable-omx --enable-openal --enable-opencl --enable-opengl --enable-sdl2 --enable-pocketsphinx --enable-librsvg --enable-libmfx --enable-libdc1394 --enable-libdrm --enable-libiec61883 --enable-chromaprint --enable-frei0r --enable-libx264 --enable-shared\n",
            "  libavutil      56. 70.100 / 56. 70.100\n",
            "  libavcodec     58.134.100 / 58.134.100\n",
            "  libavformat    58. 76.100 / 58. 76.100\n",
            "  libavdevice    58. 13.100 / 58. 13.100\n",
            "  libavfilter     7.110.100 /  7.110.100\n",
            "  libswscale      5.  9.100 /  5.  9.100\n",
            "  libswresample   3.  9.100 /  3.  9.100\n",
            "  libpostproc    55.  9.100 / 55.  9.100\n",
            "Input #0, mov,mp4,m4a,3gp,3g2,mj2, from '/content/files/audio/ViGAb66Nsdo.wav':\n",
            "  Metadata:\n",
            "    major_brand     : dash\n",
            "    minor_version   : 0\n",
            "    compatible_brands: iso6mp41\n",
            "    creation_time   : 2023-02-02T01:05:05.000000Z\n",
            "  Duration: 00:06:15.65, start: 0.000000, bitrate: 48 kb/s\n",
            "  Stream #0:0(eng): Audio: aac (HE-AAC) (mp4a / 0x6134706D), 44100 Hz, stereo, fltp, 1 kb/s (default)\n",
            "    Metadata:\n",
            "      creation_time   : 2023-02-02T01:05:05.000000Z\n",
            "      handler_name    : ISO Media file produced by Google Inc.\n",
            "      vendor_id       : [0][0][0][0]\n",
            "Stream mapping:\n",
            "  Stream #0:0 -> #0:0 (aac (native) -> pcm_s16le (native))\n",
            "Press [q] to stop, [?] for help\n",
            "Output #0, wav, to '/content/files/encoded audio/ViGAb66Nsdo.wav':\n",
            "  Metadata:\n",
            "    major_brand     : dash\n",
            "    minor_version   : 0\n",
            "    compatible_brands: iso6mp41\n",
            "    ISFT            : Lavf58.76.100\n",
            "  Stream #0:0(eng): Audio: pcm_s16le ([1][0][0][0] / 0x0001), 44100 Hz, stereo, s16, 1411 kb/s (default)\n",
            "    Metadata:\n",
            "      creation_time   : 2023-02-02T01:05:05.000000Z\n",
            "      handler_name    : ISO Media file produced by Google Inc.\n",
            "      vendor_id       : [0][0][0][0]\n",
            "      encoder         : Lavc58.134.100 pcm_s16le\n",
            "size=   64712kB time=00:06:15.60 bitrate=1411.4kbits/s speed= 500x    \n",
            "video:0kB audio:64712kB subtitle:0kB other streams:0kB global headers:0kB muxing overhead: 0.000118%\n",
            "ffmpeg version 4.4.2-0ubuntu0.22.04.1 Copyright (c) 2000-2021 the FFmpeg developers\n",
            "  built with gcc 11 (Ubuntu 11.2.0-19ubuntu1)\n",
            "  configuration: --prefix=/usr --extra-version=0ubuntu0.22.04.1 --toolchain=hardened --libdir=/usr/lib/x86_64-linux-gnu --incdir=/usr/include/x86_64-linux-gnu --arch=amd64 --enable-gpl --disable-stripping --enable-gnutls --enable-ladspa --enable-libaom --enable-libass --enable-libbluray --enable-libbs2b --enable-libcaca --enable-libcdio --enable-libcodec2 --enable-libdav1d --enable-libflite --enable-libfontconfig --enable-libfreetype --enable-libfribidi --enable-libgme --enable-libgsm --enable-libjack --enable-libmp3lame --enable-libmysofa --enable-libopenjpeg --enable-libopenmpt --enable-libopus --enable-libpulse --enable-librabbitmq --enable-librubberband --enable-libshine --enable-libsnappy --enable-libsoxr --enable-libspeex --enable-libsrt --enable-libssh --enable-libtheora --enable-libtwolame --enable-libvidstab --enable-libvorbis --enable-libvpx --enable-libwebp --enable-libx265 --enable-libxml2 --enable-libxvid --enable-libzimg --enable-libzmq --enable-libzvbi --enable-lv2 --enable-omx --enable-openal --enable-opencl --enable-opengl --enable-sdl2 --enable-pocketsphinx --enable-librsvg --enable-libmfx --enable-libdc1394 --enable-libdrm --enable-libiec61883 --enable-chromaprint --enable-frei0r --enable-libx264 --enable-shared\n",
            "  libavutil      56. 70.100 / 56. 70.100\n",
            "  libavcodec     58.134.100 / 58.134.100\n",
            "  libavformat    58. 76.100 / 58. 76.100\n",
            "  libavdevice    58. 13.100 / 58. 13.100\n",
            "  libavfilter     7.110.100 /  7.110.100\n",
            "  libswscale      5.  9.100 /  5.  9.100\n",
            "  libswresample   3.  9.100 /  3.  9.100\n",
            "  libpostproc    55.  9.100 / 55.  9.100\n",
            "Input #0, mov,mp4,m4a,3gp,3g2,mj2, from '/content/files/audio/zqWQz8rOk98.wav':\n",
            "  Metadata:\n",
            "    major_brand     : dash\n",
            "    minor_version   : 0\n",
            "    compatible_brands: iso6mp41\n",
            "    creation_time   : 2023-10-07T20:27:57.000000Z\n",
            "  Duration: 00:15:37.48, start: 0.000000, bitrate: 48 kb/s\n",
            "  Stream #0:0(eng): Audio: aac (HE-AAC) (mp4a / 0x6134706D), 44100 Hz, stereo, fltp, 0 kb/s (default)\n",
            "    Metadata:\n",
            "      creation_time   : 2023-10-07T20:27:57.000000Z\n",
            "      handler_name    : ISO Media file produced by Google Inc.\n",
            "      vendor_id       : [0][0][0][0]\n",
            "Stream mapping:\n",
            "  Stream #0:0 -> #0:0 (aac (native) -> pcm_s16le (native))\n",
            "Press [q] to stop, [?] for help\n",
            "Output #0, wav, to '/content/files/encoded audio/zqWQz8rOk98.wav':\n",
            "  Metadata:\n",
            "    major_brand     : dash\n",
            "    minor_version   : 0\n",
            "    compatible_brands: iso6mp41\n",
            "    ISFT            : Lavf58.76.100\n",
            "  Stream #0:0(eng): Audio: pcm_s16le ([1][0][0][0] / 0x0001), 44100 Hz, stereo, s16, 1411 kb/s (default)\n",
            "    Metadata:\n",
            "      creation_time   : 2023-10-07T20:27:57.000000Z\n",
            "      handler_name    : ISO Media file produced by Google Inc.\n",
            "      vendor_id       : [0][0][0][0]\n",
            "      encoder         : Lavc58.134.100 pcm_s16le\n",
            "size=  161496kB time=00:15:37.43 bitrate=1411.3kbits/s speed= 440x    \n",
            "video:0kB audio:161496kB subtitle:0kB other streams:0kB global headers:0kB muxing overhead: 0.000047%\n"
          ]
        }
      ]
    },
    {
      "cell_type": "markdown",
      "source": [
        "Auto align the audio and the transcript in a folder ."
      ],
      "metadata": {
        "id": "03_6D8_hyHae"
      }
    },
    {
      "cell_type": "code",
      "source": [
        "import os\n",
        "import shutil\n",
        "\n",
        "def align_audio_transcripts(audio_folder, transcript_folder, output_folder):\n",
        "    # Ensure output folder exists\n",
        "    os.makedirs(output_folder, exist_ok=True)\n",
        "\n",
        "    # Get list of audio files\n",
        "    audio_files = os.listdir(audio_folder)\n",
        "\n",
        "    # Iterate over audio files\n",
        "    for audio_file in audio_files:\n",
        "        # Construct paths for audio and transcript files\n",
        "        audio_path = os.path.join(audio_folder, audio_file)\n",
        "        transcript_file = os.path.splitext(audio_file)[0] + '.txt'\n",
        "        transcript_path = os.path.join(transcript_folder, transcript_file)\n",
        "\n",
        "        # Check if transcript file exists\n",
        "        if not os.path.exists(transcript_path):\n",
        "            print(f\"Transcript file not found for {audio_file}\")\n",
        "            continue\n",
        "\n",
        "        # Construct output paths\n",
        "        output_audio_path = os.path.join(output_folder, audio_file)\n",
        "        output_transcript_path = os.path.join(output_folder, transcript_file)\n",
        "\n",
        "        # Copy audio file to output folder\n",
        "        shutil.copy(audio_path, output_audio_path)\n",
        "\n",
        "        # Copy transcript file to output folder\n",
        "        shutil.copy(transcript_path, output_transcript_path)\n",
        "\n",
        "        print(f\"Aligned {audio_file} and {transcript_file} saved in {output_folder}\")\n",
        "\n",
        "# Specify input and output folders\n",
        "audio_folder = '/content/files/encoded audio'\n",
        "transcript_folder = '/content/files/transcripts'\n",
        "output_folder = '/content/files/aligned data'\n",
        "\n",
        "# Call function to align audio and transcripts\n",
        "align_audio_transcripts(audio_folder, transcript_folder, output_folder)\n"
      ],
      "metadata": {
        "colab": {
          "base_uri": "https://localhost:8080/"
        },
        "id": "G82jwJjRjQCo",
        "outputId": "77ed0878-1dd0-405f-a21c-4ba2596d6725"
      },
      "execution_count": 5,
      "outputs": [
        {
          "output_type": "stream",
          "name": "stdout",
          "text": [
            "Aligned ViGAb66Nsdo.wav and ViGAb66Nsdo.txt saved in /content/files/aligned data\n",
            "Aligned zqWQz8rOk98.wav and zqWQz8rOk98.txt saved in /content/files/aligned data\n"
          ]
        }
      ]
    },
    {
      "cell_type": "code",
      "source": [
        "from IPython.display import Audio, display\n",
        "\n",
        "sound_file = '/content/files/aligned data/ViGAb66Nsdo.wav'\n",
        "\n",
        "display(Audio(sound_file, autoplay=True))"
      ],
      "metadata": {
        "id": "onJ_sSNwvKjE"
      },
      "execution_count": 9,
      "outputs": []
    },
    {
      "cell_type": "markdown",
      "source": [
        "# Data Augmentation"
      ],
      "metadata": {
        "id": "t4QtN9CsPSJa"
      }
    },
    {
      "cell_type": "code",
      "source": [
        "from pydub import AudioSegment\n",
        "from pydub.effects import speedup\n",
        "import os\n",
        "\n",
        "def augment_audio(input_folder, output_folder):\n",
        "    # Create the output folder if it doesn't exist\n",
        "    os.makedirs(output_folder, exist_ok=True)\n",
        "\n",
        "    # Iterate over all files in the input folder\n",
        "    for filename in os.listdir(input_folder):\n",
        "        if filename.endswith(\".wav\"):\n",
        "            input_file = os.path.join(input_folder, filename)\n",
        "            output_file = os.path.join(output_folder, filename)\n",
        "\n",
        "            # Load the audio file\n",
        "            audio = AudioSegment.from_wav(input_file)\n",
        "\n",
        "            # Apply speedup effect to the audio\n",
        "            augmented_audio = speedup(audio, playback_speed=1.5)\n",
        "\n",
        "            # Export the augmented audio to a new file\n",
        "            augmented_audio.export(output_file, format=\"wav\")\n",
        "            print(f\"Augmented audio saved as: {output_file}\")\n",
        "\n",
        "# Specify input and output folders\n",
        "input_folder = \"/content/files/encoded audio\"\n",
        "output_folder = \"/content/files/augmented_audio\"\n",
        "\n",
        "# Augment audio files\n",
        "augment_audio(input_folder, output_folder)\n"
      ],
      "metadata": {
        "colab": {
          "base_uri": "https://localhost:8080/"
        },
        "id": "lcoUFmtzo1J4",
        "outputId": "4cb294b4-fda5-4bb8-dec7-eebd22e638f8"
      },
      "execution_count": 10,
      "outputs": [
        {
          "output_type": "stream",
          "name": "stdout",
          "text": [
            "Augmented audio saved as: /content/files/augmented_audio/ViGAb66Nsdo.wav\n",
            "Augmented audio saved as: /content/files/augmented_audio/zqWQz8rOk98.wav\n"
          ]
        }
      ]
    },
    {
      "cell_type": "code",
      "source": [
        "from IPython.display import Audio, display\n",
        "\n",
        "sound_file = '/content/files/augmented_audio/ViGAb66Nsdo.wav'\n",
        "\n",
        "display(Audio(sound_file, autoplay=True))"
      ],
      "metadata": {
        "id": "XKkiYqn2NG-W"
      },
      "execution_count": 13,
      "outputs": []
    },
    {
      "cell_type": "markdown",
      "source": [
        "# Dataset Creation\n",
        "\n",
        "Run a frequency test to check if a speaker is male or female.(It may not be the prefect way but can be considered)"
      ],
      "metadata": {
        "id": "CN7D4jzGPVtR"
      }
    },
    {
      "cell_type": "code",
      "source": [
        "import librosa\n",
        "import numpy as np\n",
        "\n",
        "# Function to extract pitch from audio using Fourier Transform\n",
        "def extract_pitch(audio_file):\n",
        "    y, sr = librosa.load(audio_file)\n",
        "    pitches, magnitudes = librosa.piptrack(y=y, sr=sr)\n",
        "    pitch_mean = np.mean(pitches[np.nonzero(pitches)]) # Mean of non-zero pitch values\n",
        "    return pitch_mean\n",
        "\n",
        "# Function to classify voice as male or female based on pitch threshold\n",
        "def classify_voice(pitch):\n",
        "    # Define threshold values for male and female voices\n",
        "    male_threshold = 120  # Adjust threshold as needed\n",
        "    female_threshold = 220  # Adjust threshold as needed\n",
        "\n",
        "    if pitch < male_threshold:\n",
        "        return \"Male\"\n",
        "    elif pitch > female_threshold:\n",
        "        return \"Female\"\n",
        "    else:\n",
        "        return \"Unknown\"\n",
        "\n",
        "# Test the functions\n",
        "audio_file = \"/content/files/audio/ViGAb66Nsdo.wav\"  # Path to the WAV audio file\n",
        "pitch = extract_pitch(audio_file)\n",
        "gender = classify_voice(pitch)\n",
        "print(\"Detected voice gender:\", gender)\n"
      ],
      "metadata": {
        "colab": {
          "base_uri": "https://localhost:8080/"
        },
        "id": "9LnaIePQCeI2",
        "outputId": "6357e7db-e4b0-4edd-e39c-1427c290f160"
      },
      "execution_count": 11,
      "outputs": [
        {
          "output_type": "stream",
          "name": "stderr",
          "text": [
            "<ipython-input-11-80d1d825542f>:6: UserWarning: PySoundFile failed. Trying audioread instead.\n",
            "  y, sr = librosa.load(audio_file)\n",
            "/usr/local/lib/python3.10/dist-packages/librosa/core/audio.py:183: FutureWarning: librosa.core.audio.__audioread_load\n",
            "\tDeprecated as of librosa version 0.10.0.\n",
            "\tIt will be removed in librosa version 1.0.\n",
            "  y, sr_native = __audioread_load(path, offset, duration, dtype)\n"
          ]
        },
        {
          "output_type": "stream",
          "name": "stdout",
          "text": [
            "Detected voice gender: Female\n"
          ]
        }
      ]
    },
    {
      "cell_type": "code",
      "source": [
        "from google.colab import drive\n",
        "drive.mount('/content/drive')"
      ],
      "metadata": {
        "colab": {
          "base_uri": "https://localhost:8080/"
        },
        "id": "MZnnFt9DQ7tK",
        "outputId": "3499c595-45a1-4f95-9be9-7f196c9a5333"
      },
      "execution_count": 14,
      "outputs": [
        {
          "output_type": "stream",
          "name": "stdout",
          "text": [
            "Mounted at /content/drive\n"
          ]
        }
      ]
    },
    {
      "cell_type": "code",
      "source": [
        "# prompt: write code to download all the files and folders in the files folder\n",
        "\n",
        "!zip -r /content/drive/MyDrive/files.zip /content/files\n"
      ],
      "metadata": {
        "id": "sk_Buo43eRl4",
        "colab": {
          "base_uri": "https://localhost:8080/"
        },
        "outputId": "47e4df2e-80b7-4ba4-fdd0-e4e12bcbd0c2"
      },
      "execution_count": 15,
      "outputs": [
        {
          "output_type": "stream",
          "name": "stdout",
          "text": [
            "  adding: content/files/ (stored 0%)\n",
            "  adding: content/files/audio/ (stored 0%)\n",
            "  adding: content/files/audio/ViGAb66Nsdo.wav (deflated 2%)\n",
            "  adding: content/files/audio/zqWQz8rOk98.wav (deflated 2%)\n",
            "  adding: content/files/ViGAb66Nsdo (deflated 1%)\n",
            "  adding: content/files/encoded audio/ (stored 0%)\n",
            "  adding: content/files/encoded audio/ViGAb66Nsdo.wav (deflated 28%)\n",
            "  adding: content/files/encoded audio/zqWQz8rOk98.wav (deflated 43%)\n",
            "  adding: content/files/zqWQz8rOk98 (deflated 2%)\n",
            "  adding: content/files/aligned data/ (stored 0%)\n",
            "  adding: content/files/aligned data/ViGAb66Nsdo.txt (deflated 59%)\n",
            "  adding: content/files/aligned data/zqWQz8rOk98.txt (deflated 48%)\n",
            "  adding: content/files/aligned data/ViGAb66Nsdo.wav (deflated 28%)\n",
            "  adding: content/files/aligned data/zqWQz8rOk98.wav (deflated 43%)\n",
            "  adding: content/files/augmented_audio/ (stored 0%)\n",
            "  adding: content/files/augmented_audio/ViGAb66Nsdo.wav (deflated 28%)\n",
            "  adding: content/files/augmented_audio/zqWQz8rOk98.wav (deflated 42%)\n",
            "  adding: content/files/transcripts/ (stored 0%)\n",
            "  adding: content/files/transcripts/ViGAb66Nsdo.txt (deflated 59%)\n",
            "  adding: content/files/transcripts/zqWQz8rOk98.txt (deflated 48%)\n"
          ]
        }
      ]
    }
  ]
}